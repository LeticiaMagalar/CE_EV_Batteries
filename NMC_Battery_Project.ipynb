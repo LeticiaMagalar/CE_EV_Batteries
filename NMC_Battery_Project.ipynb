{
 "cells": [
  {
   "cell_type": "code",
   "execution_count": 1,
   "id": "61701ce4-60d3-4ac5-82b8-6982fd96cb78",
   "metadata": {},
   "outputs": [
    {
     "data": {
      "text/plain": [
       "'Research Based on:\\nComparative life cycle assessment of sodium-ion and lithium iron phosphate batteries,\\nin the context of carbon neutrality.\\n\\n2023. Wei Guo, Tao Feng, Wei Li, Lin Hua, Zhenghua Meng, Ke Li.\\n\\nhttps://doi.org/10.1016/j.est.2023.108589\\n\\n'"
      ]
     },
     "execution_count": 1,
     "metadata": {},
     "output_type": "execute_result"
    }
   ],
   "source": [
    "#--- NMC622 Battery Project:\n",
    "\n",
    "\n",
    "'''Research Based on:\n",
    "Comparative life cycle assessment of sodium-ion and lithium iron phosphate batteries,\n",
    "in the context of carbon neutrality.\n",
    "\n",
    "2023. Wei Guo, Tao Feng, Wei Li, Lin Hua, Zhenghua Meng, Ke Li.\n",
    "\n",
    "https://doi.org/10.1016/j.est.2023.108589\n",
    "\n",
    "'''\n",
    "\n",
    "#- 1st use: EV (Electric Vehicle)\n",
    "#- 2nd use: CBS (communication base station)"
   ]
  },
  {
   "cell_type": "code",
   "execution_count": 2,
   "id": "b1b8dfbb-00d1-4988-8841-9fabecbabcaa",
   "metadata": {},
   "outputs": [],
   "source": [
    "#-Inventory for EV usage:\n",
    "\n",
    "VM = 1625\t#kg, Vehicle_mass\n",
    "L = 200_000\t#km, Total_mileage\n",
    "BM = 558\t#kg, Battery_mass\n",
    "Battery_capacity = 57\t#kwh\n",
    "Battery_energydensity = 102\t#Wh/kg\n",
    "Batterycell_energydensity =\t160\t#Wh/kg\n",
    "Ep= 12.2\t#kWh/100km , Electricity_consumption\n",
    "Battery_chargedischarge_eff = 90\t#%\n"
   ]
  },
  {
   "cell_type": "code",
   "execution_count": 19,
   "id": "87d91b95-29de-43dc-9122-cee6581e930a",
   "metadata": {},
   "outputs": [
    {
     "name": "stdout",
     "output_type": "stream",
     "text": [
      "31254.52\n"
     ]
    }
   ],
   "source": [
    "#-  Electricity loss, EV phase:\n",
    "# Em = f*Ep*L*(BM/VM)\n",
    "# Ec = Ep*L*(1-n1) , where n1 is charge and discharge efficiency of the battery serving, 90%.\n",
    "\n",
    "Ec= 2440\t#kWh, \n",
    "Em= 4414.52 #kWh, Energy loss\n",
    "f= 0.005268 #N/A, energy distribution coefficient of the battery\n",
    "\n",
    "Elec_lossEV= 6854.52\t#kWh, Total electricity loss\n",
    "Elec_loss_kgEV= 11.42\t#kWh/kg battery, Electricity loss per kg\n",
    "\n",
    "#- Electricity net consumption over the EV lifetime (200 000 km)\n",
    "Ep_totEV=(Ep/100)*L #kWh\n",
    "Ep_netEV=Ep_totEV+Elec_lossEV #kWh\n",
    "\n",
    "print(Ep_netEV)"
   ]
  },
  {
   "cell_type": "code",
   "execution_count": 20,
   "id": "0eb82407-ca0e-469d-be5b-33040d43523b",
   "metadata": {},
   "outputs": [
    {
     "name": "stdout",
     "output_type": "stream",
     "text": [
      "33173.22\n"
     ]
    }
   ],
   "source": [
    "#-  Electricity loss, CBS phase:\n",
    "\n",
    "Elec_lossCBS= 8773.22#kWh, Total electricity loss\n",
    "Elec_loss_kgCBS= 14.62\t#kWh/kg battery, Electricity loss per kg\n",
    "\n",
    "#- Electricity net consumption over the CBS lifetime (200 000 km)\n",
    "Ep_totCBS=(Ep/100)*L #kWh\n",
    "Ep_netCBS=Ep_totCBS+Elec_lossCBS #kWh\n",
    "print(Ep_netCBS)"
   ]
  },
  {
   "cell_type": "code",
   "execution_count": 5,
   "id": "8b8ed428-1067-4dac-bf8b-c594c82bafb3",
   "metadata": {},
   "outputs": [],
   "source": [
    "#- Importing libraries\n",
    "\n",
    "import bw2io, bw2data, bw2calc\n",
    "\n",
    "import os               # to use \"operating system dependent functionality\"\n",
    "import numpy as np      # \"the fundamental package for scientific computing with Python\"\n",
    "import pandas as pd     # \"high-performance, easy-to-use data structures and data analysis tools\" for Python"
   ]
  },
  {
   "cell_type": "code",
   "execution_count": 6,
   "id": "af485e08-395e-4a74-adb6-9f58ada4b0f4",
   "metadata": {},
   "outputs": [
    {
     "data": {
      "text/plain": [
       "Brightway2 projects manager with 16 objects:\n",
       "\tBattery_Project\n",
       "\tEcoinvent_3.10\n",
       "\tParametric_LCA\n",
       "\tTemporalis example project\n",
       "\tTemporalis_Car\n",
       "\tbw25_intro\n",
       "\tbw2_example_16042024\n",
       "\tbw2_example_18042024\n",
       "\tbw2_example_Arrays_Matrices\n",
       "\tbw2_example_LCA_ei_Access\n",
       "\tbw_temporalis example\n",
       "\tdds-MFA\n",
       "\tdefault\n",
       "\thydrogen\n",
       "\tparametric-LCA\n",
       "\tparametric_LCA\n",
       "Use `projects.report()` to get a report on all projects."
      ]
     },
     "execution_count": 6,
     "metadata": {},
     "output_type": "execute_result"
    }
   ],
   "source": [
    "bw2data.projects"
   ]
  },
  {
   "cell_type": "code",
   "execution_count": 9,
   "id": "ab037798-a5cf-4b4c-b837-fb81881ac6c8",
   "metadata": {},
   "outputs": [],
   "source": [
    "#- Create a new project\n",
    "\n",
    "#- To create a project: \n",
    "bw2data.projects.set_current(\"Parametric_LCA\")\n",
    "\n",
    "#- To copy a project with the Database\n",
    "#bw2data.projects.copy_project('Battery_Project2', switch=True)\n"
   ]
  },
  {
   "cell_type": "code",
   "execution_count": 15,
   "id": "72a4f406-bf47-47b9-ae31-d7554d1d54d9",
   "metadata": {},
   "outputs": [
    {
     "data": {
      "text/plain": [
       "Databases dictionary with 6 object(s):\n",
       "\tbiosphere3\n",
       "\tecoinvent-3.10-cutoff\n",
       "\tenergy_storage_analysis\n",
       "\th2_electrolysis\n",
       "\tparametric_LCA\n",
       "\tsuper_db_12-11-2024"
      ]
     },
     "execution_count": 15,
     "metadata": {},
     "output_type": "execute_result"
    }
   ],
   "source": [
    "#- To see the databses\n",
    "bw2data.databases"
   ]
  },
  {
   "cell_type": "code",
   "execution_count": 16,
   "id": "1fb65b94-e608-4623-a3b0-ea437b358c54",
   "metadata": {},
   "outputs": [
    {
     "name": "stdout",
     "output_type": "stream",
     "text": [
      "Extracted 1 worksheets in 0.11 seconds\n",
      "Applying strategy: csv_restore_tuples\n",
      "Applying strategy: csv_restore_booleans\n",
      "Applying strategy: csv_numerize\n",
      "Applying strategy: csv_drop_unknown\n",
      "Applying strategy: csv_add_missing_exchanges_section\n",
      "Applying strategy: normalize_units\n",
      "Applying strategy: normalize_biosphere_categories\n",
      "Applying strategy: normalize_biosphere_names\n",
      "Applying strategy: strip_biosphere_exc_locations\n",
      "Applying strategy: set_code_by_activity_hash\n",
      "Applying strategy: link_iterable_by_fields\n",
      "Applying strategy: assign_only_product_as_production\n",
      "Applying strategy: link_technosphere_by_activity_hash\n",
      "Applying strategy: drop_falsey_uncertainty_fields_but_keep_zeros\n",
      "Applying strategy: convert_uncertainty_types_to_integers\n",
      "Applying strategy: convert_activity_parameters_to_list\n",
      "Applied 16 strategies in 11.82 seconds\n"
     ]
    }
   ],
   "source": [
    "#- Excel importer\n",
    "\n",
    "imp = bw2io.ExcelImporter(r'C:\\Users\\luis.carmona\\Desktop\\Work\\5. Brightway\\Autumn School - Nov 2024\\Workshop repository\\Battery Project\\BP_energy_storage_analysis.xlsx')\n",
    "imp.apply_strategies()\n"
   ]
  },
  {
   "cell_type": "code",
   "execution_count": 21,
   "id": "1e9fde32-7905-4ba1-8041-128014901325",
   "metadata": {},
   "outputs": [
    {
     "name": "stdout",
     "output_type": "stream",
     "text": [
      "Applying strategy: link_iterable_by_fields\n",
      "7 datasets\n",
      "23 exchanges\n",
      "2 unlinked exchanges\n",
      "  Type technosphere: 1 unique unlinked exchanges\n"
     ]
    },
    {
     "data": {
      "text/plain": [
       "(7, 23, 2)"
      ]
     },
     "execution_count": 21,
     "metadata": {},
     "output_type": "execute_result"
    }
   ],
   "source": [
    "#- Match databases:\n",
    "imp.match_database(\"ecoinvent-3.10-cutoff\", fields=('name', 'reference product', 'unit', 'location'))\n",
    "imp.statistics()"
   ]
  },
  {
   "cell_type": "code",
   "execution_count": 18,
   "id": "d8863878-6f0a-4023-bb0a-135cd677789c",
   "metadata": {},
   "outputs": [
    {
     "name": "stdout",
     "output_type": "stream",
     "text": [
      "Wrote matching file to:\n",
      "C:\\Users\\luis.carmona\\AppData\\Local\\pylca\\Brightway3\\Parametric_LCA.d435c90135103ef448cbd5acc32c6351\\output\\db-matching-energy_storage_analysis.xlsx\n"
     ]
    }
   ],
   "source": [
    "imp.write_excel()"
   ]
  },
  {
   "cell_type": "code",
   "execution_count": 14,
   "id": "ed0084f7-29ba-4766-a3b9-edcd1e044b49",
   "metadata": {},
   "outputs": [
    {
     "data": {
      "text/plain": [
       "[{'name': 'market for battery, Li-ion, NMC622',\n",
       "  'amount': 5.70776255707762,\n",
       "  'location': 'GLO',\n",
       "  'unit': 'kilogram',\n",
       "  'database': 'super_db_12-11-2024',\n",
       "  'type': 'technosphere',\n",
       "  'reference product': 'battery, Li-ion, NMC622',\n",
       "  'comment': 'economic inflow'}]"
      ]
     },
     "execution_count": 14,
     "metadata": {},
     "output_type": "execute_result"
    }
   ],
   "source": [
    "[u for u in imp.unlinked if u[\"type\"] == \"technosphere\"]"
   ]
  },
  {
   "cell_type": "code",
   "execution_count": 13,
   "id": "7e678dd1-e936-4a31-a96b-316002a951c3",
   "metadata": {},
   "outputs": [
    {
     "name": "stderr",
     "output_type": "stream",
     "text": [
      "Writing activities to SQLite3 database:\n",
      "0% [#      ] 100% | ETA: 00:00:01"
     ]
    },
    {
     "ename": "InvalidExchange",
     "evalue": "",
     "output_type": "error",
     "traceback": [
      "\u001b[1;31m---------------------------------------------------------------------------\u001b[0m",
      "\u001b[1;31mInvalidExchange\u001b[0m                           Traceback (most recent call last)",
      "Cell \u001b[1;32mIn[13], line 1\u001b[0m\n\u001b[1;32m----> 1\u001b[0m imp\u001b[38;5;241m.\u001b[39mwrite_database()\n",
      "File \u001b[1;32m~\\anaconda3\\envs\\premise\\Lib\\site-packages\\bw2io\\importers\\excel.py:284\u001b[0m, in \u001b[0;36mExcelImporter.write_database\u001b[1;34m(self, **kwargs)\u001b[0m\n\u001b[0;32m    282\u001b[0m \u001b[38;5;250m\u001b[39m\u001b[38;5;124;03m\"\"\"Same as base ``write_database`` method, but ``activate_parameters`` is True by default.\"\"\"\u001b[39;00m\n\u001b[0;32m    283\u001b[0m kwargs[\u001b[38;5;124m\"\u001b[39m\u001b[38;5;124mactivate_parameters\u001b[39m\u001b[38;5;124m\"\u001b[39m] \u001b[38;5;241m=\u001b[39m kwargs\u001b[38;5;241m.\u001b[39mget(\u001b[38;5;124m\"\u001b[39m\u001b[38;5;124mactivate_parameters\u001b[39m\u001b[38;5;124m\"\u001b[39m, \u001b[38;5;28;01mTrue\u001b[39;00m)\n\u001b[1;32m--> 284\u001b[0m \u001b[38;5;28msuper\u001b[39m(ExcelImporter, \u001b[38;5;28mself\u001b[39m)\u001b[38;5;241m.\u001b[39mwrite_database(\u001b[38;5;241m*\u001b[39m\u001b[38;5;241m*\u001b[39mkwargs)\n",
      "File \u001b[1;32m~\\anaconda3\\envs\\premise\\Lib\\site-packages\\bw2io\\importers\\base_lci.py:273\u001b[0m, in \u001b[0;36mLCIImporter.write_database\u001b[1;34m(self, data, delete_existing, backend, activate_parameters, **kwargs)\u001b[0m\n\u001b[0;32m    270\u001b[0m \u001b[38;5;28mself\u001b[39m\u001b[38;5;241m.\u001b[39mwrite_database_parameters(activate_parameters, delete_existing)\n\u001b[0;32m    272\u001b[0m existing\u001b[38;5;241m.\u001b[39mupdate(data)\n\u001b[1;32m--> 273\u001b[0m db\u001b[38;5;241m.\u001b[39mwrite(existing)\n\u001b[0;32m    275\u001b[0m \u001b[38;5;28;01mif\u001b[39;00m activate_parameters:\n\u001b[0;32m    276\u001b[0m     \u001b[38;5;28mself\u001b[39m\u001b[38;5;241m.\u001b[39m_write_activity_parameters(activity_parameters)\n",
      "File \u001b[1;32m~\\anaconda3\\envs\\premise\\Lib\\site-packages\\bw2data\\project.py:358\u001b[0m, in \u001b[0;36mwritable_project\u001b[1;34m(wrapped, instance, args, kwargs)\u001b[0m\n\u001b[0;32m    356\u001b[0m \u001b[38;5;28;01mif\u001b[39;00m projects\u001b[38;5;241m.\u001b[39mread_only:\n\u001b[0;32m    357\u001b[0m     \u001b[38;5;28;01mraise\u001b[39;00m ReadOnlyProject(READ_ONLY_PROJECT)\n\u001b[1;32m--> 358\u001b[0m \u001b[38;5;28;01mreturn\u001b[39;00m wrapped(\u001b[38;5;241m*\u001b[39margs, \u001b[38;5;241m*\u001b[39m\u001b[38;5;241m*\u001b[39mkwargs)\n",
      "File \u001b[1;32m~\\anaconda3\\envs\\premise\\Lib\\site-packages\\bw2data\\backends\\peewee\\database.py:260\u001b[0m, in \u001b[0;36mSQLiteBackend.write\u001b[1;34m(self, data, process)\u001b[0m\n\u001b[0;32m    258\u001b[0m \u001b[38;5;28;01mif\u001b[39;00m data:\n\u001b[0;32m    259\u001b[0m     \u001b[38;5;28;01mtry\u001b[39;00m:\n\u001b[1;32m--> 260\u001b[0m         \u001b[38;5;28mself\u001b[39m\u001b[38;5;241m.\u001b[39m_efficient_write_many_data(data)\n\u001b[0;32m    261\u001b[0m     \u001b[38;5;28;01mexcept\u001b[39;00m:\n\u001b[0;32m    262\u001b[0m         \u001b[38;5;66;03m# Purge all data from database, then reraise\u001b[39;00m\n\u001b[0;32m    263\u001b[0m         \u001b[38;5;28mself\u001b[39m\u001b[38;5;241m.\u001b[39mdelete(warn\u001b[38;5;241m=\u001b[39m\u001b[38;5;28;01mFalse\u001b[39;00m)\n",
      "File \u001b[1;32m~\\anaconda3\\envs\\premise\\Lib\\site-packages\\bw2data\\backends\\peewee\\database.py:204\u001b[0m, in \u001b[0;36mSQLiteBackend._efficient_write_many_data\u001b[1;34m(self, data, indices)\u001b[0m\n\u001b[0;32m    197\u001b[0m     \u001b[38;5;28mself\u001b[39m\u001b[38;5;241m.\u001b[39mpbar \u001b[38;5;241m=\u001b[39m pyprind\u001b[38;5;241m.\u001b[39mProgBar(\n\u001b[0;32m    198\u001b[0m         \u001b[38;5;28mlen\u001b[39m(data),\n\u001b[0;32m    199\u001b[0m         title\u001b[38;5;241m=\u001b[39m\u001b[38;5;124m\"\u001b[39m\u001b[38;5;124mWriting activities to SQLite3 database:\u001b[39m\u001b[38;5;124m\"\u001b[39m,\n\u001b[0;32m    200\u001b[0m         monitor\u001b[38;5;241m=\u001b[39m\u001b[38;5;28;01mTrue\u001b[39;00m\n\u001b[0;32m    201\u001b[0m     )\n\u001b[0;32m    203\u001b[0m \u001b[38;5;28;01mfor\u001b[39;00m index, (key, ds) \u001b[38;5;129;01min\u001b[39;00m \u001b[38;5;28menumerate\u001b[39m(data\u001b[38;5;241m.\u001b[39mitems()):\n\u001b[1;32m--> 204\u001b[0m     exchanges, activities \u001b[38;5;241m=\u001b[39m \u001b[38;5;28mself\u001b[39m\u001b[38;5;241m.\u001b[39m_efficient_write_dataset(\n\u001b[0;32m    205\u001b[0m         index, key, ds, exchanges, activities\n\u001b[0;32m    206\u001b[0m     )\n\u001b[0;32m    208\u001b[0m \u001b[38;5;28;01mif\u001b[39;00m \u001b[38;5;129;01mnot\u001b[39;00m \u001b[38;5;28mgetattr\u001b[39m(config, \u001b[38;5;124m\"\u001b[39m\u001b[38;5;124mis_test\u001b[39m\u001b[38;5;124m\"\u001b[39m, \u001b[38;5;28;01mNone\u001b[39;00m):\n\u001b[0;32m    209\u001b[0m     \u001b[38;5;28mprint\u001b[39m(\u001b[38;5;28mself\u001b[39m\u001b[38;5;241m.\u001b[39mpbar)\n",
      "File \u001b[1;32m~\\anaconda3\\envs\\premise\\Lib\\site-packages\\bw2data\\backends\\peewee\\database.py:156\u001b[0m, in \u001b[0;36mSQLiteBackend._efficient_write_dataset\u001b[1;34m(self, index, key, ds, exchanges, activities)\u001b[0m\n\u001b[0;32m    154\u001b[0m \u001b[38;5;28;01mfor\u001b[39;00m exchange \u001b[38;5;129;01min\u001b[39;00m ds\u001b[38;5;241m.\u001b[39mget(\u001b[38;5;124m'\u001b[39m\u001b[38;5;124mexchanges\u001b[39m\u001b[38;5;124m'\u001b[39m, []):\n\u001b[0;32m    155\u001b[0m     \u001b[38;5;28;01mif\u001b[39;00m \u001b[38;5;124m'\u001b[39m\u001b[38;5;124minput\u001b[39m\u001b[38;5;124m'\u001b[39m \u001b[38;5;129;01mnot\u001b[39;00m \u001b[38;5;129;01min\u001b[39;00m exchange \u001b[38;5;129;01mor\u001b[39;00m \u001b[38;5;124m'\u001b[39m\u001b[38;5;124mamount\u001b[39m\u001b[38;5;124m'\u001b[39m \u001b[38;5;129;01mnot\u001b[39;00m \u001b[38;5;129;01min\u001b[39;00m exchange:\n\u001b[1;32m--> 156\u001b[0m         \u001b[38;5;28;01mraise\u001b[39;00m InvalidExchange\n\u001b[0;32m    157\u001b[0m     \u001b[38;5;28;01mif\u001b[39;00m \u001b[38;5;124m'\u001b[39m\u001b[38;5;124mtype\u001b[39m\u001b[38;5;124m'\u001b[39m \u001b[38;5;129;01mnot\u001b[39;00m \u001b[38;5;129;01min\u001b[39;00m exchange:\n\u001b[0;32m    158\u001b[0m         \u001b[38;5;28;01mraise\u001b[39;00m UntypedExchange\n",
      "\u001b[1;31mInvalidExchange\u001b[0m: "
     ]
    }
   ],
   "source": [
    "imp.write_database()"
   ]
  },
  {
   "cell_type": "code",
   "execution_count": null,
   "id": "b0d4c951-0b75-4f93-8040-07241c976d69",
   "metadata": {},
   "outputs": [],
   "source": [
    "#- New database\n",
    "\n",
    "# relink foreground database to new background database\n",
    "\n",
    "old_db_name = \"BP\"\n",
    "\n",
    "# current background database\n",
    "old_dependency_name = \"ecoinvent-3.10-cutoff\"\n",
    "\n",
    "# new background database to link to\n",
    "new_dependency_name = \"lci-batteries-NMC622-LTO\"\n",
    "\n",
    "# new foreground database name\n",
    "new_db_name = f\"{old_db_name} {new_dependency_name}\"\n",
    "\n",
    "# load database object\n",
    "db = bw2data.Database(old_db_name)\n",
    "\n",
    "# turn it into a dictionary\n",
    "data = db.load()\n",
    "\n",
    "for i, ds in data.items():\n",
    "\n",
    "    ds[\"database\"] = new_db_name\n",
    "    for e in ds[\"exchanges\"]:\n",
    "        #print(e)\n",
    "        if e.get(\"input\")[0] == old_dependency_name:\n",
    "            e[\"input\"] = (new_dependency_name, e[\"input\"][1])\n",
    "        \n",
    "        e[\"output\"] = (new_db_name, e[\"output\"][1])\n",
    "\n",
    "        if e[\"type\"] == \"production\":\n",
    "            e[\"output\"] = e[\"input\"]\n",
    "data = {(new_db_name, k[1]): v for k, v in data.items()}\n",
    "\n",
    "# write it back to project\n",
    "bw2data.Database(new_db_name).write(data)"
   ]
  },
  {
   "cell_type": "code",
   "execution_count": 103,
   "id": "dcb0469e-3157-40e7-a647-2e7a0faffca3",
   "metadata": {},
   "outputs": [],
   "source": [
    "eidb = bw2data.Database('super_db_12-11-2024')"
   ]
  },
  {
   "cell_type": "code",
   "execution_count": 46,
   "id": "d0e7c79e-8da9-44a2-8cc6-4b6d00652823",
   "metadata": {},
   "outputs": [],
   "source": [
    "#--- LCA"
   ]
  },
  {
   "cell_type": "code",
   "execution_count": null,
   "id": "3efdfb80-f3fa-4e1d-b0aa-7a12787056e8",
   "metadata": {},
   "outputs": [],
   "source": [
    "#- Emissions from the production of the battery"
   ]
  },
  {
   "cell_type": "code",
   "execution_count": 47,
   "id": "e8863cee-141d-4672-a8d7-c7a4a7584265",
   "metadata": {},
   "outputs": [],
   "source": [
    "#- Defining Activity: Choosing the NMC622 Battery production:\n",
    "\n",
    "Bat_nmc = [act for act in eidb if 'battery production' in act['name']\n",
    "                        and 'NMC811' in act['name']\n",
    "                        and 'RoW' in act['location']\n",
    "            ][0]"
   ]
  },
  {
   "cell_type": "code",
   "execution_count": 48,
   "id": "5eca0355-3ad1-4c80-9043-f322e4dd06c4",
   "metadata": {},
   "outputs": [
    {
     "name": "stdout",
     "output_type": "stream",
     "text": [
      "'battery production, Li-ion, NMC811, rechargeable, prismatic' (kilogram, RoW, None)\n"
     ]
    }
   ],
   "source": [
    "print(Bat_nmc)"
   ]
  },
  {
   "cell_type": "code",
   "execution_count": 49,
   "id": "505eb7e1-2e17-4923-90dd-b5ed3c51dfaf",
   "metadata": {},
   "outputs": [],
   "source": [
    "#- Defining the method:\n",
    "\n",
    "ipcc2021 = [m for m in bw2data.methods if 'IPCC' in m[0]\n",
    "                    and ('2021') in str(m)\n",
    "                    and 'GWP100' in str(m)\n",
    "                    and 'no LT' not in str(m)\n",
    "                    and 'SLCF' not in str(m)\n",
    "           ][0]\n",
    "\n",
    "ipcc_2021_method = bw2data.Method(ipcc2021)"
   ]
  },
  {
   "cell_type": "code",
   "execution_count": 68,
   "id": "61fb3dc7-9f0b-4cf6-bec1-ff0652a3fb97",
   "metadata": {},
   "outputs": [],
   "source": [
    "#ipcc_2021_method.load()"
   ]
  },
  {
   "cell_type": "code",
   "execution_count": 69,
   "id": "59220c47-fec4-436e-90ac-14e1a9904657",
   "metadata": {},
   "outputs": [],
   "source": [
    "Bat_pdt = bw2calc.LCA({Bat_nmc:1}, ipcc_2021_method.name)"
   ]
  },
  {
   "cell_type": "code",
   "execution_count": 70,
   "id": "44787f70-6451-4069-8ae9-b8e6ed0c41d5",
   "metadata": {},
   "outputs": [
    {
     "data": {
      "text/plain": [
       "16.22091021566939"
      ]
     },
     "execution_count": 70,
     "metadata": {},
     "output_type": "execute_result"
    }
   ],
   "source": [
    "Bat_pdt.lci()    # Builds matrices, solves the system, generates an LCI matrix.\n",
    "Bat_pdt.lcia()   # Characterization, i.e. the multiplication of the elements \n",
    "                          # of the LCI matrix with characterization factors from the chosen method\n",
    "Bat_pdt.score    # Returns the score, i.e. the sum of the characterized inventory"
   ]
  },
  {
   "cell_type": "code",
   "execution_count": 71,
   "id": "d6e86042-6975-441f-b8c0-ca2648d1f950",
   "metadata": {},
   "outputs": [],
   "source": [
    "#- Emissions from the usage: 1st phase (EV)"
   ]
  },
  {
   "cell_type": "code",
   "execution_count": 88,
   "id": "5efd1158-6764-403a-b9b6-23a878f0be49",
   "metadata": {},
   "outputs": [
    {
     "name": "stdout",
     "output_type": "stream",
     "text": [
      "'market for electricity, low voltage' (kilowatt hour, DE, None)\n"
     ]
    }
   ],
   "source": [
    "EV_Elec_need = [act for act in eidb if 'electricity' in act['name']\n",
    "                        and 'market' in act['name']\n",
    "                        and 'low voltage' in act['name']\n",
    "                        and 'DE' in act['location']\n",
    "            ][0]\n",
    "print(EV_Elec_need)"
   ]
  },
  {
   "cell_type": "code",
   "execution_count": 73,
   "id": "9f1dfd42-f3f7-4412-b368-b06412c834f5",
   "metadata": {},
   "outputs": [],
   "source": [
    "Bat_1st = bw2calc.LCA({EV_Elec_need:Ep_netEV}, ipcc_2021_method.name)"
   ]
  },
  {
   "cell_type": "code",
   "execution_count": 74,
   "id": "1fa03421-521a-4ec5-9e56-78cadd584cac",
   "metadata": {},
   "outputs": [
    {
     "data": {
      "text/plain": [
       "6890.096970890689"
      ]
     },
     "execution_count": 74,
     "metadata": {},
     "output_type": "execute_result"
    }
   ],
   "source": [
    "Bat_1st.lci()    # Builds matrices, solves the system, generates an LCI matrix.\n",
    "Bat_1st.lcia()   # Characterization, i.e. the multiplication of the elements \n",
    "                          # of the LCI matrix with characterization factors from the chosen method\n",
    "Bat_1st.score    # Returns the score, i.e. the sum of the characterized inventory"
   ]
  },
  {
   "cell_type": "code",
   "execution_count": 75,
   "id": "17d434c1-26da-4ada-8226-56b6df2c7c14",
   "metadata": {},
   "outputs": [],
   "source": [
    "#- Emissions from the usage: 2ndt phase (CBS)"
   ]
  },
  {
   "cell_type": "code",
   "execution_count": 76,
   "id": "73e3d9bc-219e-48fb-9926-7970163eb231",
   "metadata": {},
   "outputs": [],
   "source": [
    "Bat_2nd = bw2calc.LCA({EV_Elec_need:Ep_netCBS}, ipcc_2021_method.name)"
   ]
  },
  {
   "cell_type": "code",
   "execution_count": 77,
   "id": "44119ef2-5d3d-4931-a415-86e56432bd13",
   "metadata": {},
   "outputs": [
    {
     "data": {
      "text/plain": [
       "6136.62490526192"
      ]
     },
     "execution_count": 77,
     "metadata": {},
     "output_type": "execute_result"
    }
   ],
   "source": [
    "Bat_2nd.lci()    # Builds matrices, solves the system, generates an LCI matrix.\n",
    "Bat_2nd.lcia()   # Characterization, i.e. the multiplication of the elements \n",
    "                          # of the LCI matrix with characterization factors from the chosen method\n",
    "Bat_2nd.score    # Returns the score, i.e. the sum of the characterized inventory"
   ]
  },
  {
   "cell_type": "code",
   "execution_count": 78,
   "id": "e4ff779e-86c7-44d1-a940-e7d009256eb8",
   "metadata": {},
   "outputs": [
    {
     "data": {
      "text/plain": [
       "<Compressed Sparse Row sparse matrix of dtype 'float64'\n",
       "\twith 93 stored elements and shape (2648, 2648)>"
      ]
     },
     "execution_count": 78,
     "metadata": {},
     "output_type": "execute_result"
    }
   ],
   "source": [
    "#- The characterization matrix:\n",
    "\n",
    "# Matrix of characterization factors:\n",
    "Bat_2nd.characterization_matrix"
   ]
  },
  {
   "cell_type": "code",
   "execution_count": 80,
   "id": "c67532c6-aeed-443c-a551-538d190018ea",
   "metadata": {},
   "outputs": [
    {
     "data": {
      "text/plain": [
       "<Compressed Sparse Row sparse matrix of dtype 'float64'\n",
       "\twith 19966 stored elements and shape (2648, 23523)>"
      ]
     },
     "execution_count": 80,
     "metadata": {},
     "output_type": "execute_result"
    }
   ],
   "source": [
    "# Matrix of characterized inventory flows\n",
    "Bat_2nd.characterized_inventory"
   ]
  },
  {
   "cell_type": "code",
   "execution_count": 85,
   "id": "883dc859-2ace-496b-8306-1c630790cca6",
   "metadata": {},
   "outputs": [],
   "source": [
    "# Create array with the results per column (i.e. per activity)\n",
    "results_by_activity = (Bat_2nd.characterized_inventory.sum(axis=0)).A1"
   ]
  },
  {
   "cell_type": "code",
   "execution_count": 86,
   "id": "8275fc5a-f180-4cf1-a694-8b1fd02ec3fc",
   "metadata": {},
   "outputs": [],
   "source": [
    "rev_act_dict, rev_prod_dict, rev_bio_dict = Bat_2nd.reverse_dict()\n",
    "# Create a list of names in columns\n",
    "list_of_names_in_columns = [\n",
    "    bw2data.get_activity(rev_act_dict[col])['name'] \n",
    "    for col in range(Bat_2nd.characterized_inventory.shape[1])\n",
    "]"
   ]
  },
  {
   "cell_type": "code",
   "execution_count": 87,
   "id": "d8c108bb-cc4d-4ce7-9f65-c7235c381fee",
   "metadata": {},
   "outputs": [
    {
     "data": {
      "text/plain": [
       "electricity production, lignite                                                          2786.738997\n",
       "electricity production, hard coal                                                         766.131002\n",
       "heat and power co-generation, natural gas, conventional power plant, 100MW electrical     455.684639\n",
       "heat and power co-generation, hard coal                                                   209.280176\n",
       "electricity production, natural gas, conventional power plant                             184.479800\n",
       "electricity production, natural gas, combined cycle power plant                           174.816023\n",
       "natural gas venting from petroleum/natural gas production                                 113.941647\n",
       "heat and power co-generation, lignite                                                      80.481114\n",
       "transport, pipeline, onshore, long distance, natural gas                                   51.828479\n",
       "heat production, anthracite, at stove 5-15kW                                               48.785231\n",
       "dtype: float64"
      ]
     },
     "execution_count": 87,
     "metadata": {},
     "output_type": "execute_result"
    }
   ],
   "source": [
    "pd.Series(index=list_of_names_in_columns, data=results_by_activity).sort_values(ascending=False).head(10)"
   ]
  },
  {
   "cell_type": "code",
   "execution_count": null,
   "id": "3a83485c-95ed-42e9-8159-a0c659c5c4dd",
   "metadata": {},
   "outputs": [],
   "source": []
  }
 ],
 "metadata": {
  "kernelspec": {
   "display_name": "Python 3 (ipykernel)",
   "language": "python",
   "name": "python3"
  },
  "language_info": {
   "codemirror_mode": {
    "name": "ipython",
    "version": 3
   },
   "file_extension": ".py",
   "mimetype": "text/x-python",
   "name": "python",
   "nbconvert_exporter": "python",
   "pygments_lexer": "ipython3",
   "version": "3.11.10"
  }
 },
 "nbformat": 4,
 "nbformat_minor": 5
}
