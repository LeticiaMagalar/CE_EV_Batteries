{
 "cells": [
  {
   "cell_type": "code",
   "execution_count": 2,
   "metadata": {},
   "outputs": [],
   "source": [
    "from premise import *\n",
    "import bw2data as bw"
   ]
  },
  {
   "cell_type": "code",
   "execution_count": 3,
   "metadata": {},
   "outputs": [],
   "source": [
    "bw.projects.set_current(\"CE_EV_Batteries\")"
   ]
  },
  {
   "cell_type": "code",
   "execution_count": 4,
   "metadata": {},
   "outputs": [
    {
     "data": {
      "text/plain": [
       "Databases dictionary with 3 object(s):\n",
       "\tbiosphere\n",
       "\tecoinvent-3.10-cutoff\n",
       "\tei_cutoff_3.10_image_SSP2-RCP19_2020 2024-11-14"
      ]
     },
     "execution_count": 4,
     "metadata": {},
     "output_type": "execute_result"
    }
   ],
   "source": [
    "bw.databases"
   ]
  },
  {
   "cell_type": "code",
   "execution_count": 6,
   "metadata": {},
   "outputs": [
    {
     "name": "stdout",
     "output_type": "stream",
     "text": [
      "premise requires the name of your biosphere database.\n",
      "Please enter the name of your biosphere database as it appears in your project.\n",
      "Databases dictionary with 3 object(s):\n",
      "\tbiosphere\n",
      "\tecoinvent-3.10-cutoff\n",
      "\tei_cutoff_3.10_image_SSP2-RCP19_2020 2024-11-14\n",
      "premise v.(2, 2, 0)\n",
      "+------------------------------------------------------------------+\n",
      "| Warning                                                          |\n",
      "+------------------------------------------------------------------+\n",
      "| Because some of the scenarios can yield LCI databases            |\n",
      "| containing net negative emission technologies (NET),             |\n",
      "| it is advised to account for biogenic CO2 flows when calculating |\n",
      "| Global Warming potential indicators.                             |\n",
      "| `premise_gwp` provides characterization factors for such flows.  |\n",
      "| It also provides factors for hydrogen emissions to air.          |\n",
      "|                                                                  |\n",
      "| Within your bw2 project:                                         |\n",
      "| from premise_gwp import add_premise_gwp                          |\n",
      "| add_premise_gwp()                                                |\n",
      "+------------------------------------------------------------------+\n",
      "+--------------------------------+----------------------------------+\n",
      "| Utils functions                | Description                      |\n",
      "+--------------------------------+----------------------------------+\n",
      "| clear_cache()                  | Clears the cache folder. Useful  |\n",
      "|                                | when updating `premise`or        |\n",
      "|                                | encountering issues with         |\n",
      "|                                | inventories.                     |\n",
      "+--------------------------------+----------------------------------+\n",
      "| get_regions_definition(model)  | Retrieves the list of countries  |\n",
      "|                                | for each region of the model.    |\n",
      "+--------------------------------+----------------------------------+\n",
      "| ndb.NewDatabase(...)           | Generates a summary of the most  |\n",
      "| ndb.generate_scenario_report() | important scenarios' variables.  |\n",
      "+--------------------------------+----------------------------------+\n",
      "Keep uncertainty data?\n",
      "NewDatabase(..., keep_source_db_uncertainty=True), keep_imports_uncertainty=True)\n",
      "\n",
      "Hide these messages?\n",
      "NewDatabase(..., quiet=True)\n",
      "- Extracting source database\n",
      "- Extracting inventories\n",
      "- Fetching IAM data\n",
      "Done!\n"
     ]
    }
   ],
   "source": [
    "ndb = NewDatabase(\n",
    "    scenarios=[\n",
    "        {\"model\":\"tiam-ucl\", \"pathway\":\"SSP2-RCP19\", \"year\":2020},\n",
    "        {\"model\":\"tiam-ucl\", \"pathway\":\"SSP2-RCP19\", \"year\":2050},\n",
    "        {\"model\":\"tiam-ucl\", \"pathway\":\"SSP2-Base\", \"year\":2020},\n",
    "        {\"model\":\"tiam-ucl\", \"pathway\":\"SSP2-Base\", \"year\":2050},\n",
    "\n",
    "\n",
    "    ],\n",
    "    source_db=\"ecoinvent-3.10-cutoff\", # <-- name of the database in the BW2 project. Must be a string.\n",
    "    source_version=\"3.10\", # <-- version of ecoinvent. Can be \"3.8\", \"3.9\" or \"3.10\". Must be a string.\n",
    "    key='tUePmX_S5B8ieZkkM7WUU2CnO8SmShwmAeWK9x2rTFo=', # <-- decryption key\n",
    "    # to be requested from the library maintainers if you want ot use default scenarios included in `premise`\n",
    "    keep_source_db_uncertainty=False, # False by default, set to True if you want to keep ecoinvent's uncertainty data\n",
    "    keep_imports_uncertainty=False, # False by default, set to True if you want to keep the uncertainty data of the additional inventories\n",
    "    use_absolute_efficiency=True, # False by default, set to True if you want to use the IAM's absolute efficiencies\n",
    ")"
   ]
  },
  {
   "cell_type": "code",
   "execution_count": 7,
   "metadata": {},
   "outputs": [
    {
     "name": "stderr",
     "output_type": "stream",
     "text": [
      "Processing scenarios for 3 sectors: 100%|█| 4/4 [03:58<00:00, 59.62s/i"
     ]
    },
    {
     "name": "stdout",
     "output_type": "stream",
     "text": [
      "Done!\n",
      "\n"
     ]
    },
    {
     "name": "stderr",
     "output_type": "stream",
     "text": [
      "\n"
     ]
    }
   ],
   "source": [
    "ndb.update([\"cars\",\"electricity\",\"battery\"])"
   ]
  },
  {
   "cell_type": "code",
   "execution_count": 8,
   "metadata": {},
   "outputs": [
    {
     "name": "stdout",
     "output_type": "stream",
     "text": [
      "Running all checks...\n",
      "Minor anomalies found: check the change report.\n",
      "Running all checks...\n",
      "Minor anomalies found: check the change report.\n",
      "Running all checks...\n",
      "Minor anomalies found: check the change report.\n",
      "Running all checks...\n",
      "Minor anomalies found: check the change report.\n",
      "Building superstructure database...\n",
      "Dropped 20257 duplicate(s).\n",
      "Scenario difference file exported to c:\\WORK\\CE_EV_Batteries\\export\\scenario diff files!\n",
      "Running all checks...\n",
      "Minor anomalies found: check the change report.\n"
     ]
    },
    {
     "name": "stderr",
     "output_type": "stream",
     "text": [
      "Writing activities to SQLite3 database:\n",
      "0% [##############################] 100% | ETA: 00:00:00\n",
      "Total time elapsed: 00:00:58\n"
     ]
    },
    {
     "name": "stdout",
     "output_type": "stream",
     "text": [
      "Title: Writing activities to SQLite3 database:\n",
      "  Started: 11/14/2024 17:06:11\n",
      "  Finished: 11/14/2024 17:07:10\n",
      "  Total time elapsed: 00:00:58\n",
      "  CPU %: 46.20\n",
      "  Memory %: 43.07\n",
      "Created database: CE_Batteries_tiam_ucl_2020_2050_v2\n",
      "Generate scenario report.\n",
      "Report saved under c:\\WORK\\CE_EV_Batteries\\export\\scenario_report.\n",
      "Generate change report.\n",
      "Report saved under c:\\WORK\\CE_EV_Batteries.\n"
     ]
    }
   ],
   "source": [
    "ndb.write_superstructure_db_to_brightway(name=\"CE_Batteries_tiam_ucl_2020_2050_v2\")"
   ]
  },
  {
   "cell_type": "code",
   "execution_count": null,
   "metadata": {},
   "outputs": [],
   "source": []
  }
 ],
 "metadata": {
  "kernelspec": {
   "display_name": "premise",
   "language": "python",
   "name": "python3"
  },
  "language_info": {
   "codemirror_mode": {
    "name": "ipython",
    "version": 3
   },
   "file_extension": ".py",
   "mimetype": "text/x-python",
   "name": "python",
   "nbconvert_exporter": "python",
   "pygments_lexer": "ipython3",
   "version": "3.11.10"
  }
 },
 "nbformat": 4,
 "nbformat_minor": 2
}
